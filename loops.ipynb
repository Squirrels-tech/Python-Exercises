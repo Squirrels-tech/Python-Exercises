{
 "cells": [
  {
   "cell_type": "markdown",
   "id": "7a241a3e-2f95-4bb4-84c5-02eb4cb10769",
   "metadata": {},
   "source": [
    "Exercise 1: Print First 10 natural numbers using while loop"
   ]
  },
  {
   "cell_type": "code",
   "execution_count": 1,
   "id": "be349967-d2d3-4706-807a-e5bd145c39c1",
   "metadata": {},
   "outputs": [
    {
     "name": "stdout",
     "output_type": "stream",
     "text": [
      "1\n",
      "2\n",
      "3\n",
      "4\n",
      "5\n",
      "6\n",
      "7\n",
      "8\n",
      "9\n",
      "10\n"
     ]
    }
   ],
   "source": [
    "i = 1\n",
    "while i <=10:\n",
    "    print(i)\n",
    "    i +=1"
   ]
  },
  {
   "cell_type": "markdown",
   "id": "e7106095-687d-4f46-96c8-2c12b6524537",
   "metadata": {},
   "source": [
    "Exercise 2: Print the following pattern"
   ]
  },
  {
   "cell_type": "code",
   "execution_count": 3,
   "id": "9c4e94dc-f5d7-4942-9b0b-a8c8d2427eaf",
   "metadata": {},
   "outputs": [
    {
     "name": "stdout",
     "output_type": "stream",
     "text": [
      "Number Pattern\n",
      "1\n",
      "12\n",
      "123\n",
      "1234\n",
      "12345\n"
     ]
    }
   ],
   "source": [
    "print(\"Number Pattern\")\n",
    "row = 5\n",
    "for i in range(1, row +1, 1):\n",
    "    for j in range(1, i+1):\n",
    "        print(j,end='')\n",
    "\n",
    "    print(\"\")"
   ]
  },
  {
   "cell_type": "markdown",
   "id": "2eba6e1b-aaeb-4412-bdf2-1c4cf360953a",
   "metadata": {},
   "source": [
    "Exercise 3: Calculate the sum of all numbers from 1 to a given number"
   ]
  },
  {
   "cell_type": "code",
   "execution_count": 5,
   "id": "72f8d1d8-06b6-44ab-9f9e-0262bd7c3eb3",
   "metadata": {},
   "outputs": [
    {
     "name": "stdin",
     "output_type": "stream",
     "text": [
      "Enter Number 10\n"
     ]
    },
    {
     "name": "stdout",
     "output_type": "stream",
     "text": [
      "\n",
      "\n",
      "Sum is:  55\n"
     ]
    }
   ],
   "source": [
    "s = 0\n",
    "n = int(input(\"Enter Number\"))\n",
    "\n",
    "for i in range(1, n+1, 1):\n",
    "    s+=i\n",
    "print(\"\\n\")\n",
    "print(\"Sum is: \", s)"
   ]
  },
  {
   "cell_type": "markdown",
   "id": "b60a9721-5a5c-41a1-bdec-8cdfc3b02662",
   "metadata": {},
   "source": [
    "Exercise 4: Write a program to print multiplication table of a given number"
   ]
  },
  {
   "cell_type": "code",
   "execution_count": 6,
   "id": "11069226-1a87-4938-b44a-6a24d8ee8296",
   "metadata": {},
   "outputs": [
    {
     "name": "stdin",
     "output_type": "stream",
     "text": [
      "Enter Number 3\n"
     ]
    },
    {
     "name": "stdout",
     "output_type": "stream",
     "text": [
      "3\n",
      "6\n",
      "9\n",
      "12\n",
      "15\n",
      "18\n",
      "21\n",
      "24\n",
      "27\n",
      "30\n"
     ]
    }
   ],
   "source": [
    "n = int(input(\"Enter Number\"))\n",
    "for i in range(1,11,1):\n",
    "    product = n*i\n",
    "    print(product)"
   ]
  },
  {
   "cell_type": "markdown",
   "id": "9021981c-982e-4a53-86aa-6623eaa553a5",
   "metadata": {},
   "source": [
    "Exercise 5: Display numbers from a list using loop"
   ]
  },
  {
   "cell_type": "code",
   "execution_count": 7,
   "id": "8939a0c4-9278-424e-8aef-daf0c13e3aa3",
   "metadata": {},
   "outputs": [
    {
     "name": "stdout",
     "output_type": "stream",
     "text": [
      "75\n",
      "150\n",
      "145\n"
     ]
    }
   ],
   "source": [
    "numbers = [12, 75, 150, 180, 145, 525, 50]\n",
    "\n",
    "for i in numbers:\n",
    "    if i > 500:\n",
    "        break\n",
    "    elif i >150:\n",
    "        continue\n",
    "    elif i%5 == 0:\n",
    "        print(i)"
   ]
  },
  {
   "cell_type": "markdown",
   "id": "74cabff6-4383-4259-80f3-970c9716d9c5",
   "metadata": {},
   "source": [
    "Exercise 6: Count the total number of digits in a number"
   ]
  },
  {
   "cell_type": "code",
   "execution_count": 10,
   "id": "72a0007c-5c5e-4921-9b76-010295f69a99",
   "metadata": {},
   "outputs": [
    {
     "name": "stdout",
     "output_type": "stream",
     "text": [
      "Total digits are: 5\n"
     ]
    }
   ],
   "source": [
    "num = 75867\n",
    "count = 0\n",
    "while num !=0:\n",
    "    num = num // 10\n",
    "    count = count +1\n",
    "print(\"Total digits are:\", count)"
   ]
  },
  {
   "cell_type": "code",
   "execution_count": 12,
   "id": "89e39649-4da7-45f4-883f-678e671ec67e",
   "metadata": {},
   "outputs": [
    {
     "name": "stdout",
     "output_type": "stream",
     "text": [
      "54321\n",
      "4321\n",
      "321\n",
      "21\n",
      "1\n",
      "\n"
     ]
    }
   ],
   "source": [
    "n = 5\n",
    "k = 5\n",
    "for i in range(0, n+1):\n",
    "    for j in range(k-i,0,-1):\n",
    "        print(j,end='')\n",
    "    print()"
   ]
  },
  {
   "cell_type": "markdown",
   "id": "c574ed83-fcd4-4e5c-ae96-0c0bf6831c7d",
   "metadata": {},
   "source": [
    "Band name generator"
   ]
  },
  {
   "cell_type": "code",
   "execution_count": null,
   "id": "7e205a9f-8a79-43aa-9838-5b5561a5ae1f",
   "metadata": {},
   "outputs": [],
   "source": []
  }
 ],
 "metadata": {
  "kernelspec": {
   "display_name": "Python 3 (ipykernel)",
   "language": "python",
   "name": "python3"
  },
  "language_info": {
   "codemirror_mode": {
    "name": "ipython",
    "version": 3
   },
   "file_extension": ".py",
   "mimetype": "text/x-python",
   "name": "python",
   "nbconvert_exporter": "python",
   "pygments_lexer": "ipython3",
   "version": "3.12.3"
  }
 },
 "nbformat": 4,
 "nbformat_minor": 5
}
